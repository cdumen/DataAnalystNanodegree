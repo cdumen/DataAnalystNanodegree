{
 "cells": [
  {
   "cell_type": "code",
   "execution_count": 1,
   "metadata": {},
   "outputs": [],
   "source": [
    "import csv\n",
    "import pandas as pd\n",
    "import numpy as np\n",
    "import matplotlib.pyplot as plt\n",
    "import seaborn as sns\n",
    "sns.set(style=\"whitegrid\", color_codes=True)\n",
    "from numbers import Number\n",
    "from scipy import stats\n",
    "import math"
   ]
  },
  {
   "cell_type": "markdown",
   "metadata": {},
   "source": [
    "### Analyzing the Stroop Effect\n",
    "Perform the analysis in the space below. Remember to follow [the instructions](https://docs.google.com/document/d/1-OkpZLjG_kX9J6LIQ5IltsqMzVWjh36QpnP2RYpVdPU/pub?embedded=True) and review the [project rubric](https://review.udacity.com/#!/rubrics/71/view) before submitting. Once you've completed the analysis and write-up, download this file as a PDF or HTML file, upload that PDF/HTML into the workspace here (click on the orange Jupyter icon in the upper left then Upload), then use the Submit Project button at the bottom of this page. This will create a zip file containing both this .ipynb doc and the PDF/HTML doc that will be submitted for your project.\n",
    "\n",
    "\n",
    "(1) What is the independent variable? What is the dependent variable?"
   ]
  },
  {
   "cell_type": "markdown",
   "metadata": {},
   "source": [
    "* dependent variable is response time.\n",
    "* independent variable is word, congruent or incongruent"
   ]
  },
  {
   "cell_type": "markdown",
   "metadata": {},
   "source": [
    "(2) What is an appropriate set of hypotheses for this task? Specify your null and alternative hypotheses, and clearly define any notation used. Justify your choices."
   ]
  },
  {
   "cell_type": "markdown",
   "metadata": {},
   "source": [
    "Null Hypothesis: ( μi - μc = 0 ) There is no significant difference in the population average response time in viewing the congruent(c) words vs viewing the incongruent(i) words.\n",
    "\n",
    "Alternative Hypothesis: ( μi - μc ≠ 0 ) There is a significant difference, positive or negative, in the population average response times.The population means for response times for the two conditions, congruent and incongruent, are not the same.\n",
    "\n",
    "The t-test compares two averages (means) and tells how they are different from each other. And it can provide how significant mean differences are. Therefore performing t-test is suitable for that two proportion case. \n",
    "\n",
    "Here, Paired T test is used because it can determine whether the mean of the differences between two paired samples differs from 0 or target value. Null Hypothesis is based on this definition.\n",
    "The paired t-test calculates the difference within each before-and-after pair of measurements, determines the mean of these changes, and reports whether this mean of the differences is statistically significant.\n",
    "\n",
    "The accuracy of the dependent measures t-test is predecated upon the assumption that the differences between the results for the two conditions for each of subjects is normally distributed adn sampling is random and pairs of observations are independent.\n",
    "\n",
    "Since population parameters are not known, z-test cannot be used properly."
   ]
  },
  {
   "cell_type": "markdown",
   "metadata": {},
   "source": [
    "(3) Report some descriptive statistics regarding this dataset. Include at least one measure of central tendency and at least one measure of variability. The name of the data file is 'stroopdata.csv'."
   ]
  },
  {
   "cell_type": "code",
   "execution_count": 2,
   "metadata": {},
   "outputs": [
    {
     "data": {
      "text/html": [
       "<div>\n",
       "<style scoped>\n",
       "    .dataframe tbody tr th:only-of-type {\n",
       "        vertical-align: middle;\n",
       "    }\n",
       "\n",
       "    .dataframe tbody tr th {\n",
       "        vertical-align: top;\n",
       "    }\n",
       "\n",
       "    .dataframe thead th {\n",
       "        text-align: right;\n",
       "    }\n",
       "</style>\n",
       "<table border=\"1\" class=\"dataframe\">\n",
       "  <thead>\n",
       "    <tr style=\"text-align: right;\">\n",
       "      <th></th>\n",
       "      <th>Congruent</th>\n",
       "      <th>Incongruent</th>\n",
       "    </tr>\n",
       "  </thead>\n",
       "  <tbody>\n",
       "    <tr>\n",
       "      <th>0</th>\n",
       "      <td>12.079</td>\n",
       "      <td>19.278</td>\n",
       "    </tr>\n",
       "    <tr>\n",
       "      <th>1</th>\n",
       "      <td>16.791</td>\n",
       "      <td>18.741</td>\n",
       "    </tr>\n",
       "    <tr>\n",
       "      <th>2</th>\n",
       "      <td>9.564</td>\n",
       "      <td>21.214</td>\n",
       "    </tr>\n",
       "    <tr>\n",
       "      <th>3</th>\n",
       "      <td>8.630</td>\n",
       "      <td>15.687</td>\n",
       "    </tr>\n",
       "    <tr>\n",
       "      <th>4</th>\n",
       "      <td>14.669</td>\n",
       "      <td>22.803</td>\n",
       "    </tr>\n",
       "  </tbody>\n",
       "</table>\n",
       "</div>"
      ],
      "text/plain": [
       "   Congruent  Incongruent\n",
       "0     12.079       19.278\n",
       "1     16.791       18.741\n",
       "2      9.564       21.214\n",
       "3      8.630       15.687\n",
       "4     14.669       22.803"
      ]
     },
     "execution_count": 2,
     "metadata": {},
     "output_type": "execute_result"
    }
   ],
   "source": [
    "# Perform the analysis here\n",
    "df = pd.read_csv('stroopdata.csv')\n",
    "df.head()"
   ]
  },
  {
   "cell_type": "code",
   "execution_count": 3,
   "metadata": {},
   "outputs": [
    {
     "name": "stdout",
     "output_type": "stream",
     "text": [
      "<class 'pandas.core.frame.DataFrame'>\n",
      "RangeIndex: 24 entries, 0 to 23\n",
      "Data columns (total 2 columns):\n",
      "Congruent      24 non-null float64\n",
      "Incongruent    24 non-null float64\n",
      "dtypes: float64(2)\n",
      "memory usage: 464.0 bytes\n"
     ]
    }
   ],
   "source": [
    "df.info()"
   ]
  },
  {
   "cell_type": "code",
   "execution_count": 4,
   "metadata": {},
   "outputs": [
    {
     "name": "stdout",
     "output_type": "stream",
     "text": [
      "The number of results for each condition: \n",
      "Congruent      24\n",
      "Incongruent    24\n",
      "dtype: int64\n",
      "The median result for each condition: \n",
      "Congruent      14.3565\n",
      "Incongruent    21.0175\n",
      "dtype: float64\n",
      "The mean of the results for each condition: \n",
      "Congruent      14.051125\n",
      "Incongruent    22.015917\n",
      "dtype: float64\n",
      "The standard deviation of the results for each condition: \n",
      "Congruent      3.559358\n",
      "Incongruent    4.797057\n",
      "dtype: float64\n"
     ]
    }
   ],
   "source": [
    "count = df.count()\n",
    "print( \"The number of results for each condition: \\n{}\".format(count))\n",
    "median = df.median()\n",
    "print (\"The median result for each condition: \\n{}\" .format(median))\n",
    "mean = df.mean()\n",
    "print (\"The mean of the results for each condition: \\n{}\" .format(mean))\n",
    "stand_dev = df.std()\n",
    "print (\"The standard deviation of the results for each condition: \\n{}\".format(stand_dev))"
   ]
  },
  {
   "cell_type": "markdown",
   "metadata": {},
   "source": [
    "I have performed basic statistical operations here. As it can be seen from the results that, standard deviation and mean are higher for Incongruent case. In the next step, it can be seen graphically."
   ]
  },
  {
   "cell_type": "markdown",
   "metadata": {},
   "source": [
    "(4) Provide one or two visualizations that show the distribution of the sample data. Write one or two sentences noting what you observe about the plot or plots."
   ]
  },
  {
   "cell_type": "code",
   "execution_count": 10,
   "metadata": {},
   "outputs": [
    {
     "data": {
      "image/png": "[encoded data removed]",
      "text/plain": [
       "<matplotlib.figure.Figure at 0xea2c3b9940>"
      ]
     },
     "metadata": {},
     "output_type": "display_data"
    }
   ],
   "source": [
    "# Build the visualizations here\n",
    "df['Subject'] = df.index+1\n",
    "\n",
    "N = len(df)\n",
    "x = df['Subject']\n",
    "y = df['Congruent']\n",
    "colors = 'blue'\n",
    "area = np.pi * 15 # 0 to 15 point radiuses\n",
    "fig = plt.figure()\n",
    "fig.suptitle('Congruent Words: ', fontsize=12)\n",
    "ax = fig.add_subplot(111)\n",
    "ax.set_title('Response Time')\n",
    "ax.set_xlabel('Subject #')\n",
    "ax.set_ylabel('Completion Time')\n",
    "plt.xticks(np.arange(min(x), max(x)+1, 1.0))\n",
    "plt.yticks(np.arange(0, 35, 2))\n",
    "plt.scatter(x, y, s=area)\n",
    "plt.ylim([0,35])\n",
    "plt.xlim([0,24])\n",
    "plt.show()"
   ]
  },
  {
   "cell_type": "markdown",
   "metadata": {},
   "source": [
    "--write answer here--"
   ]
  },
  {
   "cell_type": "code",
   "execution_count": 11,
   "metadata": {},
   "outputs": [
    {
     "data": {
      "image/png": "[encoded data removed]",
      "text/plain": [
       "<matplotlib.figure.Figure at 0xea2cae96d8>"
      ]
     },
     "metadata": {},
     "output_type": "display_data"
    }
   ],
   "source": [
    "N = len(df)\n",
    "x = df['Subject']\n",
    "y = df['Incongruent']\n",
    "colors = 'red'\n",
    "area = np.pi * 15 # 0 to 15 point radiuses\n",
    "\n",
    "fig = plt.figure()\n",
    "fig.suptitle('Incongruent Words: ', fontsize=12)\n",
    "ax = fig.add_subplot(111)\n",
    "fig.subplots_adjust(top=0.85)\n",
    "ax.set_title('Response Time')\n",
    "ax.set_xlabel('Subject #')\n",
    "ax.set_ylabel('Completion Time')\n",
    "\n",
    "plt.xticks(np.arange(min(x), max(x)+1, 1.0))\n",
    "plt.yticks(np.arange(0, 38, 2))\n",
    "plt.scatter(x, y, s=area)\n",
    "plt.ylim([0,38])\n",
    "plt.xlim([0,25])\n",
    "plt.show()"
   ]
  },
  {
   "cell_type": "code",
   "execution_count": 12,
   "metadata": {},
   "outputs": [
    {
     "data": {
      "text/plain": [
       "14.051125000000004"
      ]
     },
     "execution_count": 12,
     "metadata": {},
     "output_type": "execute_result"
    }
   ],
   "source": [
    "c_mean = df['Congruent'].mean()\n",
    "c_mean"
   ]
  },
  {
   "cell_type": "code",
   "execution_count": 13,
   "metadata": {},
   "outputs": [
    {
     "data": {
      "text/plain": [
       "22.01591666666667"
      ]
     },
     "execution_count": 13,
     "metadata": {},
     "output_type": "execute_result"
    }
   ],
   "source": [
    "i_mean = df['Incongruent'].mean()\n",
    "i_mean"
   ]
  },
  {
   "cell_type": "markdown",
   "metadata": {},
   "source": [
    "I have performed scatter plot analysis to see response time of participants to Incongruent and Congruent case. Mean of time can be seen both mathematically and graphically. In Incongruent case, it is observed that there are outliers around 35. These outliers can be investigated."
   ]
  },
  {
   "cell_type": "markdown",
   "metadata": {},
   "source": [
    "(5)  Now, perform the statistical test and report your results. What is your confidence level or Type I error associated with your test? What is your conclusion regarding the hypotheses you set up? Did the results match up with your expectations? **Hint:**  Think about what is being measured on each individual, and what statistic best captures how an individual reacts in each environment."
   ]
  },
  {
   "cell_type": "code",
   "execution_count": 14,
   "metadata": {},
   "outputs": [
    {
     "name": "stdout",
     "output_type": "stream",
     "text": [
      "Number of subjects/participant is: 24\n"
     ]
    }
   ],
   "source": [
    "#number of subjects in the sample\n",
    "n = len(df)\n",
    "print( \"Number of subjects/participant is: {}\" .format(n))"
   ]
  },
  {
   "cell_type": "code",
   "execution_count": 15,
   "metadata": {},
   "outputs": [
    {
     "name": "stdout",
     "output_type": "stream",
     "text": [
      "Point Estimate is: 7.96\n"
     ]
    }
   ],
   "source": [
    "#point estimate of μi - μc -> PE (in seconds)\n",
    "PE = i_mean - c_mean\n",
    "PE = round(PE,2)\n",
    "print( \"Point Estimate is: {}\" .format(PE))"
   ]
  },
  {
   "cell_type": "markdown",
   "metadata": {},
   "source": [
    "Here, t-critical and t-statistic should be calculated;"
   ]
  },
  {
   "cell_type": "markdown",
   "metadata": {},
   "source": [
    "t-critical value can be calculated from provided t-table;\n",
    "\n",
    "Since n is found as 24 and an alpha level of 0.025 is using because this is a two tail/proportion test.\n",
    "t-critical is based on this alpha level,0.025, and a df-1 of 24. Then it is found as;\n",
    "\n",
    "t-critical = 2.069\n",
    "\n",
    "And Confidence Level for alpha 0.025 is 95%\n",
    "\n",
    "The confidence interval for a t-critical value of 2.069 is: (-10.019367912, -5.91021542131)\n",
    "From this, we can conclude with a 95% degree of confidence that the population mean for the time it takes to complete the Incongruent Stroop Task is at least 5.9102 seconds longer than that for the Congruent Stroop Task."
   ]
  },
  {
   "cell_type": "markdown",
   "metadata": {},
   "source": [
    "In order to find t-statistical, sample standard deviation of differences should be calculated. "
   ]
  },
  {
   "cell_type": "code",
   "execution_count": 16,
   "metadata": {},
   "outputs": [
    {
     "data": {
      "text/plain": [
       "0     7.199\n",
       "1     1.950\n",
       "2    11.650\n",
       "3     7.057\n",
       "4     8.134\n",
       "Name: dif, dtype: float64"
      ]
     },
     "execution_count": 16,
     "metadata": {},
     "output_type": "execute_result"
    }
   ],
   "source": [
    "# First, new column \"dif\" is created in df.\n",
    "df['dif'] = df['Incongruent'] - df['Congruent']\n",
    "df['dif'].head()"
   ]
  },
  {
   "cell_type": "code",
   "execution_count": 17,
   "metadata": {},
   "outputs": [
    {
     "name": "stdout",
     "output_type": "stream",
     "text": [
      "Variance of sum of squared difference is 23.666540867753632\n",
      "sample standard deviation of differences is 4.86\n",
      "t-statistics is 8.0159\n"
     ]
    }
   ],
   "source": [
    "# Then sum of squared differences should be calculated.\n",
    "# Calculate difference of each entry from the mean and then squared them and sum.\n",
    "df['D_diff'] = df['dif'] - df['dif'].mean()\n",
    "df['Squared'] = df['D_diff'] * df['D_diff']\n",
    "\n",
    "SumOfSquared = df['Squared'].sum()\n",
    "\n",
    "#Calculate variance\n",
    "\n",
    "v = SumOfSquared/(n-1)\n",
    "\n",
    "print('Variance of sum of squared difference is {}'. format(v))\n",
    "\n",
    "s = np.sqrt(v)\n",
    "v_sum = round(s,2)\n",
    "\n",
    "print('sample standard deviation of differences is {}'. format(v_sum))\n",
    "\n",
    "t = PE/(s/(np.sqrt(n)))\n",
    "t_s = round(t,4)\n",
    "\n",
    "print('t-statistics is {}'. format(t_s))"
   ]
  },
  {
   "cell_type": "markdown",
   "metadata": {},
   "source": [
    "t-statistic > t-critical\n",
    "\n",
    "In particular, Null Hypothesis which states that there is no significant differences between the population average completion time for Congruent and Incongruent should be rejected. Because point estimate is 7.96\n"
   ]
  },
  {
   "cell_type": "markdown",
   "metadata": {},
   "source": [
    "(6) Optional: What do you think is responsible for the effects observed? Can you think of an alternative or similar task that would result in a similar effect? Some research about the problem will be helpful for thinking about these two questions!"
   ]
  },
  {
   "cell_type": "markdown",
   "metadata": {},
   "source": [
    "--write answer here--"
   ]
  },
  {
   "cell_type": "code",
   "execution_count": null,
   "metadata": {},
   "outputs": [],
   "source": []
  }
 ],
 "metadata": {
  "kernelspec": {
   "display_name": "Python 3",
   "language": "python",
   "name": "python3"
  },
  "language_info": {
   "codemirror_mode": {
    "name": "ipython",
    "version": 3
   },
   "file_extension": ".py",
   "mimetype": "text/x-python",
   "name": "python",
   "nbconvert_exporter": "python",
   "pygments_lexer": "ipython3",
   "version": "3.6.4"
  }
 },
 "nbformat": 4,
 "nbformat_minor": 2
}
