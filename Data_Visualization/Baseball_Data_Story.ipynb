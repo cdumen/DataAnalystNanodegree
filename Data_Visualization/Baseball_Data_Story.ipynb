{
 "cells": [
  {
   "cell_type": "markdown",
   "metadata": {},
   "source": [
    "## Baseball Players Data Visualization\n"
   ]
  },
  {
   "cell_type": "markdown",
   "metadata": {},
   "source": [
    "### Links\n",
    "\n",
    "* First Visualization: https://public.tableau.com/views/BaseballData_20/Baseball?:embed=y&:display_count=yes&publish=yes\n",
    "* Second Visualization: https://public.tableau.com/shared/2HG6CJR5W?:display_count=yes\n"
   ]
  },
  {
   "cell_type": "markdown",
   "metadata": {},
   "source": [
    "### Summary\n",
    "\n",
    "The main purpose of this investigation is to explore a selected baseball dataset using Tableau and create a explanatory data visualization. \n",
    "\n",
    "Baseball Players Dataset includes batting score average, homerun, weight and height data with categorical objects name and handedness of players. In order to unserstand terms brief explanation can be made as; \n",
    "\n",
    "* In baseball, a home run (abbreviated HR) is scored when the ball is hit in such a way that the batter is able to circle the bases and reach home safely in one play without any errors being committed by the defensive team in the process.\n",
    "\n",
    "* In baseball, the batting average (abbreviated BA) is defined by the number of hits divided by at bats. It is usually reported to three decimal places and read without the decimal: A player with a batting average of .300 is \"batting three-hundred.\"\n",
    "\n",
    "* Weight and Height corresponds to baseball players' body structure.\n",
    "\n",
    "* Handedness refers to players used hands during the game; Right, Left and Both Hand users.\n",
    "\n",
    "At the first glance, handedness effect on homerun and average can be suprising. Therefore, handedness distribution all over the data should be investigated and charts based on handedness vs home run and handedness vs batting average are shown.\n",
    "\n",
    "Secondly, weight and height effect on home run and average score can be visualized to see there is a preferrable weight/height for baseball players.\n",
    "\n",
    "After performing exploration and visualization below points are came out as a conclusion;\n",
    "\n",
    "* It seems that handedness do not have a clear affect on baseball players performance such as home run and batting score. However, distribution of handedness over dataset is not same for all players. For example, for a home run being left handedness seems as a avantage but records of left handedness over dataset is 316.\n",
    "\n",
    "* When home run and batting score are plotted with respect to height of players, both have a decreasing trend line as height is increasing. \n",
    "\n",
    "* When home run and batting score are plotted with respect to weight of players, it is seen that trend line of average batting score is decreasing with increase on weight. However trend line of home run seems as increasing.\n",
    "\n",
    "* As a final conclusion, players who have height around 71 and weight 209 can be more successful regardless of their handedness."
   ]
  },
  {
   "cell_type": "markdown",
   "metadata": {},
   "source": [
    "### Design\n",
    "\n",
    "The first, I did is to investigate the dataset structure on Jupyter Notebook to see dataset cleanless status. Dataset has 1157 non-null entry for each variable and no duplicated enrty is present.\n",
    "\n",
    "Before Tableau visualization, correlation between variables are checked via Jupyter. \n",
    "\n",
    "![title](img/Correlation.png)\n",
    "\n",
    "It is seen that weight and height have negative correlation with avegare score. But weight and height has positive correlation.\n",
    "\n",
    "Handedness distribution all over the data has been visualized first by Jupyter.\n",
    "\n",
    "![title](img/handedness.png)"
   ]
  },
  {
   "cell_type": "markdown",
   "metadata": {},
   "source": [
    "#### Feedbacks\n",
    "\n",
    "* Feedback1: Instead of adding text as comments, use story sliding window to express more clearly.\n",
    "> Action1: I have removed text box from stories and used story caption.\n",
    "* Feedback2: If both weight and height negative correlation, you can create a new variable based on height/weight.\n",
    "> Action2: I have created a new variable as height/weight ratio and try to observe its effect on Home Run and Batting Score.\n",
    "* Feedback3: Hard to understand to graphics and their expected behind the story part.\n",
    "> Action3: I have tried to add more detailed explanation of graphics label and give them a naming.\n",
    "* Feedback4: Color encoding may be helpfull to understand distribution in an visual way. Bar Charts are classical.\n",
    "> Action4: I have added Bubble Graphs to make colorfull visualization. I have kept Bar Charts because even if they are classical, they are one of the effective ways to show data.\n",
    "* Feedback5: Terms are not understandable for a outsider people, make labeling more clear.\n",
    "> Action5: Instead of using abbreviations, I have tried to use longer terms.\n"
   ]
  },
  {
   "cell_type": "markdown",
   "metadata": {},
   "source": [
    "#### First Design Intend\n",
    "\n",
    "> \n",
    "* Variables are used without making any changes or constructing a new variable. Dataset provided variables are used as they are. \n",
    ">\n",
    "* For each chart and graph, initial default settings are used.\n",
    ">\n",
    "* Handedness effect on average score is shown as a bar chart. Any filtering is not used, average score and handedness label is directly plotted. Here main point is to investigate handedness effect on average batting score of players. \n",
    ">\n",
    "* Like previous part, home run of each players are plotted accordig to handedness. Bar chart is used to express the relationship. \n",
    ">\n",
    "* As correlation matrix states, height and weight have negative correlation with average batting score. Therefore scatter plot of batting score with respect to height and weight is performed seperately."
   ]
  },
  {
   "cell_type": "markdown",
   "metadata": {},
   "source": [
    "#### Second Design Intend\n",
    "\n",
    "\n",
    "> * Handedness distribuiton is shown by using Jupyter notebook previously but at the second desing, handedness distribution is added at the firt slide because before exploring the data according to handedness distribution of the variable indicates importance for the audiences.\n",
    "\n",
    "> * In order to investigate handedness effect on home run, bar chart was performed as in first design intend. However at this time, bar chart was plotted with the number of records and also provide a filtering option according to average batting score, weight, heigth and name of the players. \n",
    "\n",
    "> * As mentioned in Feedbacks part, visualization needs more colorful graphs. Colorfullness indicates color encoding. Therefore I have performed Bubble Diagram of Home Run according to Handedness. Shape of bubbles is determined by number of records and labeling is done with handedness status and home run. Color of bubble corresponds to handedness.\n",
    "\n",
    "> * Since box plot is a method for graphically depicting groups of numerical data through their quartiles. I have perfomed box plot of handedness vs home run instead of histograms because boxplot takes up less space and are therefore particularly useful for comparing distributions between several groups or sets of data. I have changed default box plot settings to logaritmic scale in order not to see zero values.\n",
    "\n",
    "> * For a average batting score, I have performed same three steps in home run analysis. First I gave bar chart of handedness vs batting score to audiences. Then Bubble Diagram was shown to understand the effect of handedness and its dirtribution on dataset. Finally a boxplot was performed.\n",
    "\n",
    "> * I have performed line chart of height vs average home run and height vs average batting score, therefore I have expected to see relationship stated in correlation matrix. In order to see characteristics of distribution, I have added trend lines to graphs.\n",
    "\n",
    "> * Like for height analysis, I have performed line chart of weight vs average home run and weight vs average batting score, therefore I have expected to see relationship stated in correlation matrix. In order to see characteristics of distribution, I have added trend lines to graphs.\n",
    "\n",
    "> * As stated in Feedbacks, I have created a new variable height/weight ratio  to visualize effects of both variable on the scores of players. I have performed bar graph to see changes with respect to ratio increses.\n",
    "\n",
    "> * In the general design, bar charts are kept because bar charts are  easy to create a first impression. However box plots and bubble plots are used. Color encoding are tried to used as handedness.\n",
    "\n",
    "> * As mentioned in Feedbacks part, I have removed text comments from visualization and try to use story option of Tableau  more organized way."
   ]
  },
  {
   "cell_type": "markdown",
   "metadata": {},
   "source": [
    "### References\n",
    "\n",
    "* https://stackoverflow.com/questions/32370281/how-to-include-image-or-picture-in-jupyter-notebook\n",
    "* https://github.com/Rahbaran/data-analyst-udacity-nanodegree/tree/master/p6-create-a-tableau-story\n",
    "* https://www.encorebusiness.com/blog/tableau-tips-tricks-tableau-story-telling/\n",
    "* https://onlinehelp.tableau.com/current/pro/desktop/en-us/story_create.html"
   ]
  }
 ],
 "metadata": {
  "kernelspec": {
   "display_name": "Python 3",
   "language": "python",
   "name": "python3"
  },
  "language_info": {
   "codemirror_mode": {
    "name": "ipython",
    "version": 3
   },
   "file_extension": ".py",
   "mimetype": "text/x-python",
   "name": "python",
   "nbconvert_exporter": "python",
   "pygments_lexer": "ipython3",
   "version": "3.6.4"
  }
 },
 "nbformat": 4,
 "nbformat_minor": 2
}
